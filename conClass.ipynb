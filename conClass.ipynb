{
 "cells": [
  {
   "cell_type": "code",
   "execution_count": 1,
   "metadata": {
    "collapsed": true
   },
   "outputs": [],
   "source": [
    "import cv2\n",
    "import numpy as np\n",
    "import os\n",
    "from random import shuffle\n",
    "from tqdm import tqdm\n",
    "import time\n",
    "from datetime import timedelta\n",
    "import matplotlib.pyplot as plt\n",
    "\n",
    "import tensorflow as tf\n",
    "\n",
    "\n",
    "\n",
    " \n",
    "TRAIN_DIR = \"DogVsCat/train\"\n",
    "TEST_DIR = \"DogVsCat/test\"\n",
    "IMG_SIZE = 50\n",
    "LR = 1e-3\n",
    "\n",
    "\n",
    "\n",
    "train_data_name = 'train_dvs_data.npy'\n",
    "test_data_name = 'test_dvs_data.npy'\n",
    "\n",
    "MODEL_NAME =\"DVS-{}-{}.model\".format(LR,'2dconv')"
   ]
  },
  {
   "cell_type": "code",
   "execution_count": 2,
   "metadata": {
    "collapsed": true
   },
   "outputs": [],
   "source": [
    "# TRAIN_DIR1 = \"notebook/convClass/DogVsCat/train\"\n",
    "# for img in tqdm(os.listdir(\"notebook\")):\n",
    "#                            print(img)\n",
    "\n",
    "# path = os.path.dirname(os.path.realpath('__file__'))\n",
    "# train_dir = os.path.join(path,TRAIN_DIR)\n",
    "# test_dir = os.path.join(path,TEST_DIR)"
   ]
  },
  {
   "cell_type": "code",
   "execution_count": 3,
   "metadata": {
    "collapsed": true
   },
   "outputs": [],
   "source": [
    "# def label_img(img):\n",
    "    \n",
    "#     word_label = img.split('.')[-3]\n",
    "  \n",
    "#     if word_label == 'cat': return [1,0]\n",
    "#     elif word_label == 'dog' : return [0,1]\n"
   ]
  },
  {
   "cell_type": "code",
   "execution_count": 4,
   "metadata": {
    "collapsed": true
   },
   "outputs": [],
   "source": [
    "# def create_train_data():\n",
    "#     training_data = []\n",
    "#     for each_img in tqdm(os.listdir(train_dir)):\n",
    "#         label = label_img(each_img)\n",
    "#         each_img_path = os.path.join(train_dir,each_img)\n",
    "#         img_data = cv2.imread(each_img_path,cv2.IMREAD_GRAYSCALE)\n",
    "#         img_data = cv2.resize(img_data,(IMG_SIZE,IMG_SIZE))\n",
    "#         training_data.append([np.array(img_data),np.array(label)])\n",
    "#     shuffle(training_data)\n",
    "#     np.save(train_data_name,training_data)\n",
    "#     return training_data\n"
   ]
  },
  {
   "cell_type": "code",
   "execution_count": 5,
   "metadata": {
    "collapsed": true
   },
   "outputs": [],
   "source": [
    "#create_train_data()"
   ]
  },
  {
   "cell_type": "code",
   "execution_count": 6,
   "metadata": {
    "collapsed": true
   },
   "outputs": [],
   "source": [
    "# def process_test_data():\n",
    "#     testing_data = []\n",
    "#     for each_img in tqdm(os.listdir(test_dir)):\n",
    "#         path = os.path.join(test_dir,each_img)\n",
    "#         img_num = each_img.split('.')[0]\n",
    "#         img_data = cv2.imread(path,cv2.IMREAD_GRAYSCALE)\n",
    "#         img_data = cv2.resize(img_data,(IMG_SIZE,IMG_SIZE))\n",
    "#         testing_data.append([np.array(img_data),img_num])\n",
    "#     shuffle(testing_data)\n",
    "#     np.save(test_data_name,testing_data)\n",
    "#     return testing_data"
   ]
  },
  {
   "cell_type": "code",
   "execution_count": 7,
   "metadata": {
    "collapsed": true,
    "scrolled": true
   },
   "outputs": [],
   "source": [
    "#process_test_data()"
   ]
  },
  {
   "cell_type": "code",
   "execution_count": 8,
   "metadata": {
    "collapsed": true
   },
   "outputs": [],
   "source": [
    "#load data if exits\n",
    "train_data = np.load(train_data_name)\n",
    "test_data = np.load(test_data_name)\n"
   ]
  },
  {
   "cell_type": "code",
   "execution_count": 9,
   "metadata": {
    "collapsed": true
   },
   "outputs": [],
   "source": [
    "test_size = 0.25\n",
    "testing_size = int(test_size*len(train_data))\n",
    "\n",
    "train_x = list(train_data[:,0][:-testing_size])\n",
    "train_y = list(train_data[:,1][:-testing_size])\n",
    "\n",
    "\n",
    "test_x = list(train_data[:,0][-testing_size:])\n",
    "test_y = list(train_data[:,1][-testing_size:])\n",
    "\n"
   ]
  },
  {
   "cell_type": "code",
   "execution_count": 10,
   "metadata": {},
   "outputs": [
    {
     "data": {
      "text/plain": [
       "18750"
      ]
     },
     "execution_count": 10,
     "metadata": {},
     "output_type": "execute_result"
    }
   ],
   "source": [
    "len(train_x)"
   ]
  },
  {
   "cell_type": "code",
   "execution_count": 11,
   "metadata": {
    "collapsed": true
   },
   "outputs": [],
   "source": [
    "\n",
    "\n",
    "\n",
    "\n",
    "filter_size = 5\n",
    "\n",
    "num_filter1 = 32\n",
    "num_filter2 = 64\n",
    "num_filter3=128\n",
    "num_filter4=256\n",
    "\n",
    "keep_rate=0.8\n",
    "beta=0.1\n",
    "\n",
    "\n",
    "\n",
    "\n",
    "fc_size = 512\n",
    "fc_size2 =1024\n",
    "\n",
    "num_channels = 1\n",
    "num_classes = 2\n",
    "\n",
    "\n",
    "\n",
    "\n",
    "x = tf.placeholder(tf.float32, [None, IMG_SIZE*IMG_SIZE], name='x')\n",
    "y_true = tf.placeholder(tf.float32,[None,2],name ='y')\n",
    "\n",
    "\n",
    "x = tf.reshape(x,[-1,IMG_SIZE,IMG_SIZE,num_channels])\n",
    "\n",
    "\n",
    "\n",
    "\n",
    "save_path = 'tf_checkpoints/'\n",
    "\n",
    "\n",
    "\n",
    "if not os.path.exists(save_path):\n",
    "    os.makedirs(save_path)\n",
    "    \n",
    "save_validation_path = os.path.join(save_path,'best_validation')\n",
    "\n",
    "\n",
    "\n",
    "def con2d(x,W):\n",
    "    return tf.nn.conv2d(x,W,strides=[1,1,1,1],padding='SAME')\n",
    "\n",
    "def maxpool2d(x):\n",
    "    return tf.nn.max_pool(x,ksize=[1,2,2,1],strides=[1,2,2,1],padding='SAME')\n",
    "\n",
    "def new_Weight(shape):\n",
    "    return tf.Variable(tf.random_normal(shape))\n",
    "                       \n",
    "def new_biases(length):\n",
    "    return tf.Variable(tf.constant(0.05, shape=[length]))\n",
    "\n",
    "\n",
    "def new_conv_neural_layer(x,filter_size,num_channels,num_filter):\n",
    "    shape = [filter_size,filter_size,num_channels,num_filter]\n",
    "    weights = new_Weight(shape)\n",
    "    biases = new_biases(num_filter)\n",
    "    conv = con2d(x,weights) + biases\n",
    "    conv = maxpool2d(conv)\n",
    "    conv = tf.nn.relu(conv)\n",
    "    return conv ,weights\n",
    "\n",
    "def new_fc_layer(input,num_inputs,num_outputs,use_relu=True):\n",
    "    weights = new_Weight(shape=[num_inputs,num_outputs])\n",
    "    biases = new_biases(length=num_outputs)\n",
    "    fc_layer = tf.matmul(input,weights)+biases\n",
    "    \n",
    "    if use_relu:\n",
    "        fc_layer = tf.nn.relu(fc_layer)\n",
    "    return fc_layer,weights\n",
    "\n",
    "\n",
    "\n",
    "def flatten_layer(conv_output):\n",
    "    layer_shape = conv_output.get_shape()\n",
    "    num_features = layer_shape[1:4].num_elements()\n",
    "    flatten_conv = tf.reshape(conv_output,[-1,num_features])\n",
    "    return flatten_conv,num_features\n"
   ]
  },
  {
   "cell_type": "code",
   "execution_count": null,
   "metadata": {
    "collapsed": true
   },
   "outputs": [],
   "source": []
  },
  {
   "cell_type": "code",
   "execution_count": 12,
   "metadata": {
    "collapsed": true
   },
   "outputs": [],
   "source": [
    "\n",
    "def build_network(dropout):\n",
    "    layer_conv1,weights_conv1 = new_conv_neural_layer(x,filter_size,num_channels,num_filter1)\n",
    "    layer_conv2,weights_conv2 = new_conv_neural_layer(layer_conv1,filter_size,num_filter1,num_filter2)   \n",
    "    layer_conv3,weights_conv3 = new_conv_neural_layer(layer_conv2,filter_size,num_filter2,num_filter3)\n",
    "    layer_conv4,weights_conv4 = new_conv_neural_layer(layer_conv3,filter_size,num_filter3,num_filter4)\n",
    "    \n",
    "    flatten_conv,num_feature = flatten_layer(layer_conv4)\n",
    "    fc_layer1,weights_flat1 = new_fc_layer(flatten_conv,num_feature,fc_size,True)\n",
    "    fc_layer2,weights_flat2 = new_fc_layer(fc_layer1,fc_size,fc_size2,True)\n",
    "\n",
    "    if(dropout):\n",
    "        fc_layer2 = tf.nn.dropout(fc_layer1,keep_rate)\n",
    "    fc_layer3,weights_output = new_fc_layer(fc_layer2,fc_size2,num_classes,False)\n",
    "    \n",
    "\n",
    "    return fc_layer3,[weights_conv1,weights_conv2,weights_conv3,weights_conv4,weights_flat1,weights_flat2,weights_output]"
   ]
  },
  {
   "cell_type": "code",
   "execution_count": 13,
   "metadata": {
    "collapsed": true
   },
   "outputs": [],
   "source": [
    "def predict(y_pred_class,session):\n",
    "    test_batch_size=256\n",
    "\n",
    "    num_test = len(test_x)\n",
    "    cls_pred = np.zeros(shape=num_test, dtype=np.int)\n",
    "    \n",
    "    \n",
    "    i = 0\n",
    "\n",
    "\n",
    "    while i < num_test:\n",
    "           \n",
    "            \n",
    "        j = min(i + test_batch_size, num_test)\n",
    "            \n",
    "        batch_x= np.array(test_x[i:j])\n",
    "        batch_x = np.reshape(batch_x,[-1,IMG_SIZE,IMG_SIZE,1])\n",
    "        batch_y= np.array(test_y[i:j])\n",
    "        feed_dict = {x: batch_x,y_true:batch_y}\n",
    "\n",
    "        cls_pred[i:j] = session.run(y_pred_class, feed_dict=feed_dict)\n",
    "\n",
    "        i = j+1\n",
    "    correct = np.equal(cls_pred,np.argmax(test_y,1))\n",
    "    accuracy = np.mean(correct.astype('float'))\n",
    "    \n",
    "    print(\"validation accuracy\",accuracy)\n",
    "    print(correct[:100])\n",
    "    return cls_pred\n",
    "\n",
    "            \n",
    "    "
   ]
  },
  {
   "cell_type": "code",
   "execution_count": null,
   "metadata": {
    "collapsed": true
   },
   "outputs": [],
   "source": []
  },
  {
   "cell_type": "code",
   "execution_count": 14,
   "metadata": {
    "collapsed": true
   },
   "outputs": [],
   "source": [
    "\n",
    "def train_model():\n",
    "    \n",
    "    \n",
    "    prediction,list_of_weights = build_network(False)\n",
    "    \n",
    "    \n",
    "    cross_entrpy_loss = tf.reduce_mean(tf.nn.softmax_cross_entropy_with_logits(logits=prediction,\n",
    "                                                                               labels=y_true))\n",
    "    \n",
    "    \n",
    "#     regularizer = tf.nn.l2_loss(list_of_weights[0])+tf.nn.l2_loss(list_of_weights[1])+tf.nn.l2_loss(list_of_weights[2])+tf.nn.l2_loss(list_of_weights[3])+tf.nn.l2_loss(list_of_weights[4])+tf.nn.l2_loss(list_of_weights[5])+tf.nn.l2_loss(list_of_weights[6])       \n",
    "    \n",
    "#     cross_entrpy_loss = tf.reduce_mean(cross_entrpy_loss + beta * regularizer)\n",
    "    \n",
    "    \n",
    "    \n",
    "    optimizer = tf.train.AdamOptimizer(learning_rate=LR).minimize(cross_entrpy_loss)\n",
    "    batch_size = 128\n",
    "\n",
    "\n",
    "    hm_epochs = 20\n",
    "    with tf.Session() as sessin:\n",
    "        \n",
    "        saver1=tf.train.Saver()\n",
    "        best_validation=0.0\n",
    "        last_improvement=0\n",
    "        \n",
    "        y_pred = tf.nn.softmax(prediction)\n",
    "        y_pred_class = tf.argmax(y_pred,dimension=1)\n",
    "    \n",
    "            \n",
    "        sessin.run(tf.global_variables_initializer())\n",
    "        start_time = time.time()\n",
    "        for epoch in tqdm(range(hm_epochs)):\n",
    "            epoch_loss = 0\n",
    "            batch=0\n",
    "            \n",
    "            while batch < len(train_x):\n",
    "                start = batch\n",
    "                end = batch+batch_size\n",
    "                batch_x = np.array(train_x[start:end])\n",
    "                batch_x = np.reshape(batch_x,[-1,IMG_SIZE,IMG_SIZE,1])\n",
    "                batch_y = np.array(train_y[start:end])\n",
    "                _, c = sessin.run([optimizer, cross_entrpy_loss], feed_dict={x: batch_x, y_true: batch_y})\n",
    "                epoch_loss += c\n",
    "                batch+=batch_size\n",
    "               \n",
    "                \n",
    "\n",
    "            end_time =time.time()\n",
    "            difference = end_time - start_time\n",
    "            print(\"Time usage: \" + str(timedelta(seconds=int(round(difference)))))\n",
    "            print('Epoch', epoch+1, 'completed out of',hm_epochs,'loss:',epoch_loss)\n",
    "            correct = tf.equal(tf.argmax(prediction, 1), tf.argmax(y_true, 1))\n",
    "            \n",
    "           \n",
    "            accuracy = tf.reduce_mean(tf.cast(correct, 'float'))\n",
    "            acc = sessin.run(accuracy, feed_dict={x:batch_x, y_true: batch_y})\n",
    "        \n",
    "               \n",
    "            saver1.save(sess=sessin,save_path=save_validation_path)\n",
    "                \n",
    "            print(\"last improvment at epoch\",epoch+1,\"with accuracy\",acc)\n",
    "        predict(y_pred_class,sessin)\n",
    "        \n",
    "            \n"
   ]
  },
  {
   "cell_type": "code",
   "execution_count": 15,
   "metadata": {},
   "outputs": [
    {
     "name": "stderr",
     "output_type": "stream",
     "text": [
      "\r",
      "  0%|                                                                                           | 0/20 [00:00<?, ?it/s]"
     ]
    },
    {
     "name": "stdout",
     "output_type": "stream",
     "text": [
      "Time usage: 0:01:11\n",
      "Epoch 1 completed out of 20 loss: 2.7549730775e+12\n",
      "last improvment at epoch 1 with accuracy 0.596774\n"
     ]
    },
    {
     "name": "stderr",
     "output_type": "stream",
     "text": [
      "\r",
      "  5%|████▏                                                                              | 1/20 [01:12<23:04, 72.89s/it]"
     ]
    },
    {
     "name": "stdout",
     "output_type": "stream",
     "text": [
      "Time usage: 0:02:20\n",
      "Epoch 2 completed out of 20 loss: 1.19641720013e+12\n",
      "last improvment at epoch 2 with accuracy 0.612903\n"
     ]
    },
    {
     "name": "stderr",
     "output_type": "stream",
     "text": [
      "\r",
      " 10%|████████▎                                                                          | 2/20 [02:21<21:30, 71.68s/it]"
     ]
    },
    {
     "name": "stdout",
     "output_type": "stream",
     "text": [
      "Time usage: 0:03:29\n",
      "Epoch 3 completed out of 20 loss: 732591892224.0\n",
      "last improvment at epoch 3 with accuracy 0.66129\n"
     ]
    },
    {
     "name": "stderr",
     "output_type": "stream",
     "text": [
      "\r",
      " 15%|████████████▍                                                                      | 3/20 [03:30<20:05, 70.92s/it]"
     ]
    },
    {
     "name": "stdout",
     "output_type": "stream",
     "text": [
      "Time usage: 0:04:38\n",
      "Epoch 4 completed out of 20 loss: 574450890240.0\n",
      "last improvment at epoch 4 with accuracy 0.66129\n"
     ]
    },
    {
     "name": "stderr",
     "output_type": "stream",
     "text": [
      "\r",
      " 20%|████████████████▌                                                                  | 4/20 [04:40<18:48, 70.52s/it]"
     ]
    },
    {
     "name": "stdout",
     "output_type": "stream",
     "text": [
      "Time usage: 0:05:47\n",
      "Epoch 5 completed out of 20 loss: 505780718336.0\n",
      "last improvment at epoch 5 with accuracy 0.693548\n"
     ]
    },
    {
     "name": "stderr",
     "output_type": "stream",
     "text": [
      "\r",
      " 25%|████████████████████▊                                                              | 5/20 [05:49<17:31, 70.12s/it]"
     ]
    },
    {
     "name": "stdout",
     "output_type": "stream",
     "text": [
      "Time usage: 0:06:57\n",
      "Epoch 6 completed out of 20 loss: 460325392384.0\n",
      "last improvment at epoch 6 with accuracy 0.725806\n"
     ]
    },
    {
     "name": "stderr",
     "output_type": "stream",
     "text": [
      "\r",
      " 30%|████████████████████████▉                                                          | 6/20 [06:58<16:17, 69.82s/it]"
     ]
    },
    {
     "name": "stdout",
     "output_type": "stream",
     "text": [
      "Time usage: 0:08:06\n",
      "Epoch 7 completed out of 20 loss: 374459900288.0\n",
      "last improvment at epoch 7 with accuracy 0.677419\n"
     ]
    },
    {
     "name": "stderr",
     "output_type": "stream",
     "text": [
      "\r",
      " 35%|█████████████████████████████                                                      | 7/20 [08:08<15:05, 69.65s/it]"
     ]
    },
    {
     "name": "stdout",
     "output_type": "stream",
     "text": [
      "Time usage: 0:09:15\n",
      "Epoch 8 completed out of 20 loss: 272686808960.0\n",
      "last improvment at epoch 8 with accuracy 0.709677\n"
     ]
    },
    {
     "name": "stderr",
     "output_type": "stream",
     "text": [
      "\r",
      " 40%|█████████████████████████████████▏                                                 | 8/20 [09:17<13:54, 69.50s/it]"
     ]
    },
    {
     "name": "stdout",
     "output_type": "stream",
     "text": [
      "Time usage: 0:10:24\n",
      "Epoch 9 completed out of 20 loss: 216419865984.0\n",
      "last improvment at epoch 9 with accuracy 0.758065\n"
     ]
    },
    {
     "name": "stderr",
     "output_type": "stream",
     "text": [
      "\r",
      " 45%|█████████████████████████████████████▎                                             | 9/20 [10:26<12:43, 69.37s/it]"
     ]
    },
    {
     "name": "stdout",
     "output_type": "stream",
     "text": [
      "Time usage: 0:11:33\n",
      "Epoch 10 completed out of 20 loss: 177229064896.0\n",
      "last improvment at epoch 10 with accuracy 0.741935\n"
     ]
    },
    {
     "name": "stderr",
     "output_type": "stream",
     "text": [
      "\r",
      " 50%|█████████████████████████████████████████                                         | 10/20 [11:35<11:33, 69.38s/it]"
     ]
    },
    {
     "name": "stdout",
     "output_type": "stream",
     "text": [
      "Time usage: 0:12:43\n",
      "Epoch 11 completed out of 20 loss: 205541782944.0\n",
      "last improvment at epoch 11 with accuracy 0.629032\n"
     ]
    },
    {
     "name": "stderr",
     "output_type": "stream",
     "text": [
      "\r",
      " 55%|█████████████████████████████████████████████                                     | 11/20 [12:44<10:24, 69.34s/it]"
     ]
    },
    {
     "name": "stdout",
     "output_type": "stream",
     "text": [
      "Time usage: 0:13:52\n",
      "Epoch 12 completed out of 20 loss: 210937002400.0\n",
      "last improvment at epoch 12 with accuracy 0.83871\n"
     ]
    },
    {
     "name": "stderr",
     "output_type": "stream",
     "text": [
      "\r",
      " 60%|█████████████████████████████████████████████████▏                                | 12/20 [13:54<09:14, 69.37s/it]"
     ]
    },
    {
     "name": "stdout",
     "output_type": "stream",
     "text": [
      "Time usage: 0:15:02\n",
      "Epoch 13 completed out of 20 loss: 165227310144.0\n",
      "last improvment at epoch 13 with accuracy 0.887097\n"
     ]
    },
    {
     "name": "stderr",
     "output_type": "stream",
     "text": [
      "\r",
      " 65%|█████████████████████████████████████████████████████▎                            | 13/20 [15:04<08:06, 69.49s/it]"
     ]
    },
    {
     "name": "stdout",
     "output_type": "stream",
     "text": [
      "Time usage: 0:16:11\n",
      "Epoch 14 completed out of 20 loss: 124010996864.0\n",
      "last improvment at epoch 14 with accuracy 0.83871\n"
     ]
    },
    {
     "name": "stderr",
     "output_type": "stream",
     "text": [
      "\r",
      " 70%|█████████████████████████████████████████████████████████▍                        | 14/20 [16:13<06:57, 69.52s/it]"
     ]
    },
    {
     "name": "stdout",
     "output_type": "stream",
     "text": [
      "Time usage: 0:17:21\n",
      "Epoch 15 completed out of 20 loss: 115030089296.0\n",
      "last improvment at epoch 15 with accuracy 0.741935\n"
     ]
    },
    {
     "name": "stderr",
     "output_type": "stream",
     "text": [
      "\r",
      " 75%|█████████████████████████████████████████████████████████████▌                    | 15/20 [17:23<05:47, 69.47s/it]"
     ]
    },
    {
     "name": "stdout",
     "output_type": "stream",
     "text": [
      "Time usage: 0:18:30\n",
      "Epoch 16 completed out of 20 loss: 98765433776.0\n",
      "last improvment at epoch 16 with accuracy 0.822581\n"
     ]
    },
    {
     "name": "stderr",
     "output_type": "stream",
     "text": [
      "\r",
      " 80%|█████████████████████████████████████████████████████████████████▌                | 16/20 [18:33<04:38, 69.62s/it]"
     ]
    },
    {
     "name": "stdout",
     "output_type": "stream",
     "text": [
      "Time usage: 0:19:40\n",
      "Epoch 17 completed out of 20 loss: 87749260496.0\n",
      "last improvment at epoch 17 with accuracy 0.887097\n"
     ]
    },
    {
     "name": "stderr",
     "output_type": "stream",
     "text": [
      "\r",
      " 85%|█████████████████████████████████████████████████████████████████████▋            | 17/20 [19:42<03:29, 69.70s/it]"
     ]
    },
    {
     "name": "stdout",
     "output_type": "stream",
     "text": [
      "Time usage: 0:20:50\n",
      "Epoch 18 completed out of 20 loss: 77749969752.0\n",
      "last improvment at epoch 18 with accuracy 0.951613\n"
     ]
    },
    {
     "name": "stderr",
     "output_type": "stream",
     "text": [
      "\r",
      " 90%|█████████████████████████████████████████████████████████████████████████▊        | 18/20 [20:52<02:19, 69.65s/it]"
     ]
    },
    {
     "name": "stdout",
     "output_type": "stream",
     "text": [
      "Time usage: 0:22:00\n",
      "Epoch 19 completed out of 20 loss: 64440955460.0\n",
      "last improvment at epoch 19 with accuracy 0.967742\n"
     ]
    },
    {
     "name": "stderr",
     "output_type": "stream",
     "text": [
      "\r",
      " 95%|█████████████████████████████████████████████████████████████████████████████▉    | 19/20 [22:01<01:09, 69.55s/it]"
     ]
    },
    {
     "name": "stdout",
     "output_type": "stream",
     "text": [
      "Time usage: 0:23:09\n",
      "Epoch 20 completed out of 20 loss: 68428627856.0\n",
      "last improvment at epoch 20 with accuracy 0.967742\n"
     ]
    },
    {
     "name": "stderr",
     "output_type": "stream",
     "text": [
      "100%|██████████████████████████████████████████████████████████████████████████████████| 20/20 [23:11<00:00, 69.54s/it]\n"
     ]
    },
    {
     "name": "stdout",
     "output_type": "stream",
     "text": [
      "validation accuracy 0.64032\n",
      "[False  True False False  True False  True  True  True  True  True  True\n",
      "  True False  True  True  True False  True  True False False  True  True\n",
      "  True False  True  True False  True  True  True  True  True  True  True\n",
      "  True False  True  True  True  True False False False False  True  True\n",
      "  True  True False  True False False  True  True  True  True  True  True\n",
      " False False  True False False False False  True  True  True False False\n",
      " False  True False  True False  True  True  True  True  True False  True\n",
      "  True  True  True False  True False  True  True  True  True False False\n",
      " False False  True  True]\n"
     ]
    }
   ],
   "source": [
    "train_model()"
   ]
  },
  {
   "cell_type": "code",
   "execution_count": 16,
   "metadata": {},
   "outputs": [
    {
     "name": "stdout",
     "output_type": "stream",
     "text": [
      "hello\n"
     ]
    }
   ],
   "source": [
    "print(\"hello\")"
   ]
  },
  {
   "cell_type": "code",
   "execution_count": 17,
   "metadata": {
    "collapsed": true
   },
   "outputs": [],
   "source": [
    "def plot_images(images, cls_true, cls_pred=None):\n",
    "    assert len(images) == len(cls_true) == 9\n",
    "    \n",
    "    # Create figure with 3x3 sub-plots.\n",
    "    fig, axes = plt.subplots(3, 3)\n",
    "    fig.subplots_adjust(hspace=0.3, wspace=0.3)\n",
    "\n",
    "    for i, ax in enumerate(axes.flat):\n",
    "        # Plot image.\n",
    "        ax.imshow(images[i], cmap='binary')\n",
    "\n",
    "        # Show true and predicted classes.\n",
    "        if cls_pred is None:\n",
    "            xlabel = \"True: {0}\".format(cls_true[i])\n",
    "        else:\n",
    "            xlabel = \"True: {0}, Pred: {1}\".format(cls_true[i], cls_pred[i])\n",
    "\n",
    "        # Show the classes as the label on the x-axis.\n",
    "        ax.set_xlabel(xlabel)\n",
    "        \n",
    "        # Remove ticks from the plot.\n",
    "        ax.set_xticks([])\n",
    "        ax.set_yticks([])\n",
    "    \n",
    "    # Ensure the plot is shown correctly with multiple plots\n",
    "    # in a single Notebook cell.\n",
    "    plt.show()\n"
   ]
  },
  {
   "cell_type": "code",
   "execution_count": 20,
   "metadata": {},
   "outputs": [
    {
     "name": "stdout",
     "output_type": "stream",
     "text": [
      "Tensor(\"add_27:0\", shape=(?, 2), dtype=float32)\n",
      "INFO:tensorflow:Restoring parameters from tf_checkpoints/best_validation\n",
      "[1 0 0 1 0 0 1 1 1]\n"
     ]
    },
    {
     "data": {
      "image/png": "[encoded data removed]",
      "text/plain": [
       "<matplotlib.figure.Figure at 0x2e15d323400>"
      ]
     },
     "metadata": {},
     "output_type": "display_data"
    }
   ],
   "source": [
    "\n",
    "prediction,list_of_weights = build_network(False)\n",
    "print(prediction)\n",
    "y_pred = tf.nn.softmax(prediction)\n",
    "\n",
    "\n",
    "\n",
    "y_pred_class = tf.argmax(y_pred,dimension=1)\n",
    "\n",
    "batch_n= np.array(test_x[5634:5643])\n",
    "batch_x = np.reshape(batch_n,[-1,IMG_SIZE,IMG_SIZE,1])\n",
    "batch_y=np.array(test_y[5634:5643])\n",
    "batch_y = np.argmax(batch_y,1)\n",
    "\n",
    "\n",
    "\n",
    "    \n",
    "with tf.Session() as sess:  \n",
    "    sess.run(tf.global_variables_initializer())\n",
    "\n",
    "    ckpt = tf.train.get_checkpoint_state(save_path)\n",
    "    if ckpt and ckpt.model_checkpoint_path:\n",
    "        saver2= tf.train.import_meta_graph(\"{}.meta\".format(ckpt.model_checkpoint_path))\n",
    "        saver2.restore(sess, ckpt.model_checkpoint_path)\n",
    "    else:\n",
    "        print(\"No checkpoint\")\n",
    "    feed_dict = {x: batch_x}\n",
    "\n",
    "    cls_pred = sess.run(y_pred_class, feed_dict=feed_dict)\n",
    "print(cls_pred)\n",
    "plot_images(batch_n,batch_y,cls_pred)\n"
   ]
  },
  {
   "cell_type": "code",
   "execution_count": null,
   "metadata": {
    "collapsed": true
   },
   "outputs": [],
   "source": []
  },
  {
   "cell_type": "code",
   "execution_count": null,
   "metadata": {
    "collapsed": true
   },
   "outputs": [],
   "source": []
  }
 ],
 "metadata": {
  "kernelspec": {
   "display_name": "Python 3",
   "language": "python",
   "name": "python3"
  },
  "language_info": {
   "codemirror_mode": {
    "name": "ipython",
    "version": 3
   },
   "file_extension": ".py",
   "mimetype": "text/x-python",
   "name": "python",
   "nbconvert_exporter": "python",
   "pygments_lexer": "ipython3",
   "version": "3.5.3"
  }
 },
 "nbformat": 4,
 "nbformat_minor": 2
}
